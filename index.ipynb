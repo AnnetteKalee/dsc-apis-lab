{
 "cells": [
  {
   "cell_type": "markdown",
   "metadata": {},
   "source": [
    "# APIs - Cumulative Lab\n",
    "\n",
    "\n",
    "## Introduction \n",
    "\n",
    "We've seen how the Yelp API works and how to create basic visualizations using Folium. It's time to put those skills to work in order to create a working map! Taking things a step further, you'll also independently explore how to perform pagination in order to retrieve a full results set from the Yelp API.\n",
    "\n",
    "## Objectives\n",
    "\n",
    "You will be able to: \n",
    "\n",
    "* Practice using functions to organize your code\n",
    "* Use pagination to retrieve all results from an API query\n",
    "* Practice parsing data returned from an API query\n",
    "* Practice interpreting visualizations of a dataset\n",
    "* Create maps using Folium"
   ]
  },
  {
   "cell_type": "markdown",
   "metadata": {},
   "source": [
    "## Your Task: Query Yelp for All Businesses in a Category and Analyze the Results\n",
    "\n",
    "![restaurant counter with pizza](images/restaurant_counter.jpg)\n",
    "\n",
    "Photo by <a href=\"https://unsplash.com/@jordanmadrid?utm_source=unsplash&utm_medium=referral&utm_content=creditCopyText\">Jordan Madrid</a> on <a href=\"/s/photos/pizza-restaurant?utm_source=unsplash&utm_medium=referral&utm_content=creditCopyText\">Unsplash</a>"
   ]
  },
  {
   "cell_type": "markdown",
   "metadata": {},
   "source": [
    "### Overview\n",
    "\n",
    "You've now worked with some API calls, but we have yet to see how to retrieve a more complete dataset in a programmatic manner. In this lab, you will write a query of businesses on Yelp, then use *pagination* to retrieve all possible results for that query. Then you will create a summary of your findings, including a Folium map of the geographic locations of those businesses.\n",
    "\n",
    "### Technical Details\n",
    "\n",
    "Returning to the Yelp API, the [documentation](https://www.yelp.com/developers/documentation/v3/business_search) also provides us details regarding the **API limits**. These often include details about the number of requests a user is allowed to make within a specified time limit and the maximum number of results to be returned. In this case, we are told that any request has a **maximum of 50 results per request** and defaults to 20. Furthermore, any search will be limited to a **total of 1000 results**. To retrieve all 1000 of these results, we would have to page through the results piece by piece, retrieving 50 at a time. Processes such as these are often referred to as pagination.\n",
    "\n",
    "Also, be mindful of the **API** ***rate*** **limits**. You can only make **5000 requests per day** and can make requests too fast. Start prototyping small before running a loop that could be faulty. You can also use `time.sleep(n)` to add delays. For more details see https://www.yelp.com/developers/documentation/v3/rate_limiting.\n",
    "\n",
    "In this lab, you will define a search and then paginate over the results to retrieve all of the results. You'll then parse these responses as a list of dictionaries (for further exploration) and create a map using Folium to visualize the results geographically.\n",
    "\n",
    "### Requirements\n",
    "\n",
    "#### 1. Make the Initial Request\n",
    "\n",
    "Start by filling in your API key to make the initial request to the business search API. Investigate the structure of the response you get back and start figuring out how you will extract the relevant information.\n",
    "\n",
    "#### 2. Add Pagination\n",
    "\n",
    "Using loops and functions, collect the maximum number of results for your query from the API.\n",
    "\n",
    "#### 3. Perform Exploratory Analysis\n",
    "\n",
    "Interpret visualizations related to the price range, average rating, and number of reviews for all query results.\n",
    "\n",
    "#### 4. Create a Folium Map\n",
    "\n",
    "Using latitude and longitude data, plot the query results on an interactive map."
   ]
  },
  {
   "cell_type": "markdown",
   "metadata": {},
   "source": [
    "## 1. Make the Initial Request\n",
    "\n",
    "### Querying\n",
    "\n",
    "Start by making an initial request to the Yelp API. Your search must include at least 2 parameters: **term** and **location**. For example, you might search for pizza restaurants in NYC. The term and location is up to you but make the request below.\n",
    "\n",
    "Use the `requests` library ([documentation here](https://requests.readthedocs.io/en/master/user/quickstart/#make-a-request)).\n",
    "\n",
    "You'll also need an API key from Yelp. If you haven't done this already, go to the Yelp [Manage App page](https://www.yelp.com/developers/v3/manage_app) and create a new app (after making an account if you haven't already)."
   ]
  },
  {
   "cell_type": "code",
   "execution_count": 1,
   "metadata": {},
   "outputs": [
    {
     "data": {
      "text/plain": [
       "<Response [200]>"
      ]
     },
     "execution_count": 1,
     "metadata": {},
     "output_type": "execute_result"
    }
   ],
   "source": [
    "# Replace None with appropriate code\n",
    "\n",
    "# Import the requests library\n",
    "import requests\n",
    "\n",
    "# Get this from the \"Manage App\" page. Make sure you set them\n",
    "# back to None before pushing this to GitHub, since otherwise\n",
    "# your credentials will be compromised\n",
    "api_key = \"hiHtqHEjG_OmBvnpHRtDEmKFUY1rWW_IaGgvRmL4jomsooHG49NOP0OleNswckTzeEIuMdJdl6_3Bkec0VbbgiyHhvKH2RX9v1cWVJrEtRC6VoIuJwZ_DPXiM0uuZHYx\"\n",
    "\n",
    "# These can be whatever you want! But the solution uses \"pizza\"\n",
    "# and \"New York NY\" if you want to compare your work directly\n",
    "term = \"pizza\"\n",
    "location = \"New York NY\"\n",
    "\n",
    "# Set up params for request\n",
    "url = \"https://api.yelp.com/v3/businesses/search\"\n",
    "headers = {\n",
    "    \"Authorization\": \"Bearer {}\".format(api_key)\n",
    "}\n",
    "url_params = {\n",
    "    \"term\": term.replace(\" \", \"+\"),\n",
    "    \"location\": location.replace(\" \", \"+\")\n",
    "}\n",
    "\n",
    "# Make the request using requests.get, passing in\n",
    "# url, headers=headers, and params=url_params\n",
    "response = requests.get(url, headers=headers, params=url_params)\n",
    "\n",
    "# Confirm we got a 200 response\n",
    "response"
   ]
  },
  {
   "cell_type": "code",
   "execution_count": 2,
   "metadata": {},
   "outputs": [
    {
     "data": {
      "text/plain": [
       "dict_keys(['businesses', 'total', 'region'])"
      ]
     },
     "execution_count": 2,
     "metadata": {},
     "output_type": "execute_result"
    }
   ],
   "source": [
    "# Run this cell without changes\n",
    "\n",
    "# Get the response body in JSON format\n",
    "response_json = response.json()\n",
    "# View the keys\n",
    "response_json.keys()"
   ]
  },
  {
   "cell_type": "markdown",
   "metadata": {},
   "source": [
    "### Extracting Data\n",
    "\n",
    "Now, retrieve the value associated with the `'businesses'` key, and inspect its contents."
   ]
  },
  {
   "cell_type": "code",
   "execution_count": 3,
   "metadata": {},
   "outputs": [
    {
     "data": {
      "text/plain": [
       "[{'id': 'zj8Lq1T8KIC5zwFief15jg',\n",
       "  'alias': 'prince-street-pizza-new-york-2',\n",
       "  'name': 'Prince Street Pizza',\n",
       "  'image_url': 'https://s3-media4.fl.yelpcdn.com/bphoto/PfI8oV4ct9ZJZNtUhSS8DQ/o.jpg',\n",
       "  'is_closed': False,\n",
       "  'url': 'https://www.yelp.com/biz/prince-street-pizza-new-york-2?adjust_creative=FbUYK5OTWQwkx_hyw1zVxA&utm_campaign=yelp_api_v3&utm_medium=api_v3_business_search&utm_source=FbUYK5OTWQwkx_hyw1zVxA',\n",
       "  'review_count': 4967,\n",
       "  'categories': [{'alias': 'pizza', 'title': 'Pizza'},\n",
       "   {'alias': 'italian', 'title': 'Italian'}],\n",
       "  'rating': 4.5,\n",
       "  'coordinates': {'latitude': 40.72308755605564,\n",
       "   'longitude': -73.99453001177575},\n",
       "  'transactions': ['delivery', 'pickup'],\n",
       "  'price': '$',\n",
       "  'location': {'address1': '27 Prince St',\n",
       "   'address2': None,\n",
       "   'address3': '',\n",
       "   'city': 'New York',\n",
       "   'zip_code': '10012',\n",
       "   'country': 'US',\n",
       "   'state': 'NY',\n",
       "   'display_address': ['27 Prince St', 'New York, NY 10012']},\n",
       "  'phone': '+12129664100',\n",
       "  'display_phone': '(212) 966-4100',\n",
       "  'distance': 2209.3116178604555},\n",
       " {'id': 'ysqgdbSrezXgVwER2kQWKA',\n",
       "  'alias': 'julianas-brooklyn-3',\n",
       "  'name': \"Juliana's\",\n",
       "  'image_url': 'https://s3-media2.fl.yelpcdn.com/bphoto/NVoLFle5H-SHNN6piAKIYw/o.jpg',\n",
       "  'is_closed': False,\n",
       "  'url': 'https://www.yelp.com/biz/julianas-brooklyn-3?adjust_creative=FbUYK5OTWQwkx_hyw1zVxA&utm_campaign=yelp_api_v3&utm_medium=api_v3_business_search&utm_source=FbUYK5OTWQwkx_hyw1zVxA',\n",
       "  'review_count': 2664,\n",
       "  'categories': [{'alias': 'pizza', 'title': 'Pizza'}],\n",
       "  'rating': 4.5,\n",
       "  'coordinates': {'latitude': 40.70274718768062,\n",
       "   'longitude': -73.99343490196397},\n",
       "  'transactions': ['delivery'],\n",
       "  'price': '$$',\n",
       "  'location': {'address1': '19 Old Fulton St',\n",
       "   'address2': '',\n",
       "   'address3': '',\n",
       "   'city': 'Brooklyn',\n",
       "   'zip_code': '11201',\n",
       "   'country': 'US',\n",
       "   'state': 'NY',\n",
       "   'display_address': ['19 Old Fulton St', 'Brooklyn, NY 11201']},\n",
       "  'phone': '+17185966700',\n",
       "  'display_phone': '(718) 596-6700',\n",
       "  'distance': 1289.8572856708206}]"
      ]
     },
     "execution_count": 3,
     "metadata": {},
     "output_type": "execute_result"
    }
   ],
   "source": [
    "# Replace None with appropriate code\n",
    "\n",
    "# Retrieve the value from response_json\n",
    "businesses = response_json['businesses']\n",
    "\n",
    "# View the first 2 records\n",
    "businesses[:2]"
   ]
  },
  {
   "cell_type": "markdown",
   "metadata": {},
   "source": [
    "### Preparing Data\n",
    "\n",
    "Write a function `prepare_data` that takes in a list of dictionaries like `businesses` and returns a copy that has been prepared for analysis:\n",
    "\n",
    "1. The `coordinates` key-value pair has been converted into two separate key-value pairs, `latitude` and `longitude`\n",
    "2. All other key-value pairs except for `name`, `review_count`, `rating`, and `price` have been dropped\n",
    "3. All dictionaries missing one of the relevant keys or containing null values have been dropped\n",
    "\n",
    "In other words, the final keys for each dictionary should be `name`, `review_count`, `rating`, `price`, `latitude`, and `longitude`.\n",
    "\n",
    "Complete the function in the cell below:"
   ]
  },
  {
   "cell_type": "code",
   "execution_count": 4,
   "metadata": {},
   "outputs": [
    {
     "data": {
      "text/plain": [
       "[{'name': 'Prince Street Pizza',\n",
       "  'review_count': 4967,\n",
       "  'rating': 4.5,\n",
       "  'price': '$',\n",
       "  'latitude': 40.72308755605564,\n",
       "  'longitude': -73.99453001177575},\n",
       " {'name': \"Juliana's\",\n",
       "  'review_count': 2664,\n",
       "  'rating': 4.5,\n",
       "  'price': '$$',\n",
       "  'latitude': 40.70274718768062,\n",
       "  'longitude': -73.99343490196397},\n",
       " {'name': 'Rubirosa',\n",
       "  'review_count': 3076,\n",
       "  'rating': 4.5,\n",
       "  'price': '$$',\n",
       "  'latitude': 40.722766,\n",
       "  'longitude': -73.996233},\n",
       " {'name': \"Joe's Pizza\",\n",
       "  'review_count': 3032,\n",
       "  'rating': 4.0,\n",
       "  'price': '$',\n",
       "  'latitude': 40.73060076,\n",
       "  'longitude': -74.00215997},\n",
       " {'name': \"Joe's Pizza\",\n",
       "  'review_count': 1954,\n",
       "  'rating': 4.0,\n",
       "  'price': '$',\n",
       "  'latitude': 40.7547,\n",
       "  'longitude': -73.98696}]"
      ]
     },
     "execution_count": 4,
     "metadata": {},
     "output_type": "execute_result"
    }
   ],
   "source": [
    "# Replace None with appropriate code\n",
    "\n",
    "def prepare_data(data_list):\n",
    "    \"\"\"\n",
    "    This function takes in a list of dictionaries and prepares it\n",
    "    for analysis\n",
    "    \"\"\"\n",
    "    \n",
    "    # Make a new list to hold results\n",
    "    results = []\n",
    "    \n",
    "    for business_data in data_list:\n",
    "    \n",
    "        # Make a new dictionary to hold prepared data for this business\n",
    "        prepared_data = {}\n",
    "        \n",
    "        # Extract name, review_count, rating, and price key-value pairs\n",
    "        # from business_data and add to prepared_data\n",
    "        # If a key is not present in business_data, add it to prepared_data\n",
    "        # with an associated value of None\n",
    "        prepared_data['name'] = business_data.get('name')\n",
    "        prepared_data['review_count'] = business_data.get('review_count')\n",
    "        prepared_data['rating'] = business_data.get('rating')\n",
    "        prepared_data['price'] = business_data.get('price')\n",
    "    \n",
    "        # Parse and add latitude and longitude columns\n",
    "        coordinates = business_data.get('coordinates')\n",
    "        if coordinates and 'latitude' in coordinates and 'longitude' in coordinates:\n",
    "            prepared_data['latitude'] = coordinates['latitude']\n",
    "            prepared_data['longitude'] = coordinates['longitude']\n",
    "        \n",
    "        # Add to list if all values are present\n",
    "        if all(prepared_data.values()):\n",
    "            results.append(prepared_data)\n",
    "    \n",
    "    return results\n",
    "    \n",
    "# Test out function\n",
    "prepared_businesses = prepare_data(businesses)\n",
    "prepared_businesses[:5]"
   ]
  },
  {
   "cell_type": "markdown",
   "metadata": {},
   "source": [
    "Check that your function created the correct keys:"
   ]
  },
  {
   "cell_type": "code",
   "execution_count": 5,
   "metadata": {},
   "outputs": [],
   "source": [
    "# Run this cell without changes\n",
    "\n",
    "assert sorted(list(prepared_businesses[0].keys())) == ['latitude', 'longitude', 'name', 'price', 'rating', 'review_count']"
   ]
  },
  {
   "cell_type": "markdown",
   "metadata": {},
   "source": [
    "The following code will differ depending on your query, but we expect there to be 20 businesses in the original list, and potentially fewer in the prepared list (if any of them were missing data):"
   ]
  },
  {
   "cell_type": "code",
   "execution_count": 6,
   "metadata": {},
   "outputs": [
    {
     "name": "stdout",
     "output_type": "stream",
     "text": [
      "Original: 20\n",
      "Prepared: 18\n"
     ]
    }
   ],
   "source": [
    "# Run this cell without changes\n",
    "print(\"Original:\", len(businesses))\n",
    "print(\"Prepared:\", len(prepared_businesses))"
   ]
  },
  {
   "cell_type": "markdown",
   "metadata": {},
   "source": [
    "Great! We will reuse this function once we have retrieved the full dataset."
   ]
  },
  {
   "cell_type": "markdown",
   "metadata": {},
   "source": [
    "## 2. Add Pagination\n",
    "\n",
    "Now that you are able to extract information from one page of the response, let's figure out how to request as many pages as possible.\n",
    "\n",
    "### Determining the Total\n",
    "\n",
    "Depending on the number of total results for your query, you will either retrieve all of the results, or just the first 1000 (if there are more than 1000 total).\n",
    "\n",
    "We can find the total number of results using the `\"total\"` key:"
   ]
  },
  {
   "cell_type": "code",
   "execution_count": 7,
   "metadata": {},
   "outputs": [
    {
     "data": {
      "text/plain": [
       "16400"
      ]
     },
     "execution_count": 7,
     "metadata": {},
     "output_type": "execute_result"
    }
   ],
   "source": [
    "# Run this cell without changes\n",
    "response_json[\"total\"]"
   ]
  },
  {
   "cell_type": "markdown",
   "metadata": {},
   "source": [
    "(This is specific to the implementation of the Yelp API. Some APIs will just tell you that there are more pages, or will tell you the number of pages total, rather than the total number of results. If you're not sure, always check the documentation.)\n",
    "\n",
    "In the cell below, assign the variable `total` to either the value shown above (if it is less than 1000), or 1000."
   ]
  },
  {
   "cell_type": "code",
   "execution_count": 8,
   "metadata": {},
   "outputs": [],
   "source": [
    "# Replace None with appropriate code\n",
    "total = len(prepared_businesses) if len(prepared_businesses) < 1000 else 1000"
   ]
  },
  {
   "cell_type": "markdown",
   "metadata": {},
   "source": [
    "### Calculating the Offsets\n",
    "\n",
    "The documentation states in the parameters section:\n",
    "\n",
    "> **Name**: `limit`, **Type:** int, **Description:** Optional. Number of business results to return. By default, it will return 20. Maximum is 50.\n",
    "\n",
    "> **Name**: `offset`, **Type:** int, **Description:** Optional. Offset the list of returned business results by this amount.\n",
    "\n",
    "So, to get the most results with the fewest API calls we want to set a limit of 50 every time. If, say, we wanted to get 210 total results, that would mean:\n",
    "\n",
    "1. Offset of `0` (first 50 records)\n",
    "2. Offset of `50` (second 50 records)\n",
    "3. Offset of `100` (third 50 records)\n",
    "4. Offset of `150` (fourth 50 records)\n",
    "5. Offset of `200` (final 10 records)\n",
    "\n",
    "In the cell below, create a function `get_offsets` that takes in a total and returns a list of offsets for that total. You can assume that there is a limit of 50 every time.\n",
    "\n",
    "*Hint: you can use `range` ([documentation here](https://docs.python.org/3.3/library/stdtypes.html?highlight=range#range)) to do this in one line of code. Just make the returned result is a list.*"
   ]
  },
  {
   "cell_type": "code",
   "execution_count": 9,
   "metadata": {},
   "outputs": [
    {
     "name": "stdout",
     "output_type": "stream",
     "text": [
      "[0, 50, 100, 150, 200]\n"
     ]
    }
   ],
   "source": [
    "# Replace None with appropriate code\n",
    "def get_offsets(total):\n",
    "    \"\"\"\n",
    "    Get a list of offsets needed to get all pages\n",
    "    of data up until the total\n",
    "    \"\"\"\n",
    "    offsets = []\n",
    "    current_offset = 0\n",
    "    limit = 50\n",
    "\n",
    "    while current_offset < total:\n",
    "        offsets.append(current_offset)\n",
    "        current_offset += limit\n",
    "\n",
    "    return offsets\n",
    "\n",
    "# Test the function\n",
    "total = 210\n",
    "offsets = get_offsets(total)\n",
    "print(offsets)"
   ]
  },
  {
   "cell_type": "markdown",
   "metadata": {},
   "source": [
    "Check that your function works below:"
   ]
  },
  {
   "cell_type": "code",
   "execution_count": 10,
   "metadata": {},
   "outputs": [],
   "source": [
    "# Run this cell without changes\n",
    "\n",
    "assert get_offsets(200) == [0, 50, 100, 150]\n",
    "assert get_offsets(210) == [0, 50, 100, 150, 200]"
   ]
  },
  {
   "cell_type": "markdown",
   "metadata": {},
   "source": [
    "### Putting It All Together\n",
    "\n",
    "Recall that the following variable has already been declared for you:"
   ]
  },
  {
   "cell_type": "code",
   "execution_count": 11,
   "metadata": {},
   "outputs": [
    {
     "data": {
      "text/plain": [
       "{'term': 'pizza', 'location': 'New+York+NY'}"
      ]
     },
     "execution_count": 11,
     "metadata": {},
     "output_type": "execute_result"
    }
   ],
   "source": [
    "# Run this cell without changes\n",
    "url_params"
   ]
  },
  {
   "cell_type": "markdown",
   "metadata": {},
   "source": [
    "We'll go ahead and also specify that the limit should be 50 every time:"
   ]
  },
  {
   "cell_type": "code",
   "execution_count": 12,
   "metadata": {},
   "outputs": [],
   "source": [
    "# Run this cell without changes\n",
    "url_params[\"limit\"] = 50"
   ]
  },
  {
   "cell_type": "markdown",
   "metadata": {},
   "source": [
    "In order to modify the offset, you'll need to add it to `url_params` with the key `\"offset\"` and whatever value is needed.\n",
    "\n",
    "In the cell below, write code that:\n",
    "\n",
    "* Creates an empty list for the full prepared dataset\n",
    "* Loops over all of the offsets from `get_offsets` and makes an API call each time with the specified offset\n",
    "* Calls `prepare_data` to get a cleaned version of the result of each API call\n",
    "* Extends the full prepared dataset list with each query's prepared dataset"
   ]
  },
  {
   "cell_type": "code",
   "execution_count": 13,
   "metadata": {},
   "outputs": [
    {
     "data": {
      "text/plain": [
       "179"
      ]
     },
     "execution_count": 13,
     "metadata": {},
     "output_type": "execute_result"
    }
   ],
   "source": [
    "# Replace None with appropriate code\n",
    "\n",
    "# Create an empty list for the full prepared dataset\n",
    "full_dataset = []\n",
    "\n",
    "for offset in get_offsets(total):\n",
    "    # Add or update the \"offset\" key-value pair in url_params\n",
    "    url_params[\"offset\"] = offset\n",
    "    \n",
    "    # Make the query and get the response\n",
    "    response = requests.get(url, headers=headers, params=url_params)\n",
    "    \n",
    "    # Get the response body in JSON format\n",
    "    response_json = response.json()\n",
    "    \n",
    "    # Get the list of businesses from the response_json\n",
    "    businesses = response_json.get('businesses',[])\n",
    "    \n",
    "    # Call the prepare_data function to get a list of processed data\n",
    "    prepared_businesses = prepare_data(businesses)\n",
    "    \n",
    "    # Extend full_dataset with this list (don't append, or you'll get\n",
    "    # a list of lists instead of a flat list)\n",
    "    full_dataset.extend(prepared_businesses)\n",
    "\n",
    "# Check the length of the full dataset. It will be up to `total`,\n",
    "# potentially less if there were missing values\n",
    "len(full_dataset)"
   ]
  },
  {
   "cell_type": "markdown",
   "metadata": {},
   "source": [
    "This code may take up to a few minutes to run.\n",
    "\n",
    "If you get an error trying to get the response body in JSON format, try adding `time.sleep(1)` right after the `requests.get` line, so your code will sleep for 1 second between each API call."
   ]
  },
  {
   "cell_type": "markdown",
   "metadata": {},
   "source": [
    "## 3. Perform Exploratory Analysis\n",
    "\n",
    "Take the businesses from the previous question and do an initial exploratory analysis. We have provided some plots for you to interpret:"
   ]
  },
  {
   "cell_type": "code",
   "execution_count": 14,
   "metadata": {},
   "outputs": [
    {
     "data": {
      "image/png": "[encoded data removed]",
      "text/plain": [
       "<Figure size 1152x360 with 3 Axes>"
      ]
     },
     "metadata": {
      "needs_background": "light"
     },
     "output_type": "display_data"
    }
   ],
   "source": [
    "# Run this cell without changes\n",
    "from collections import Counter\n",
    "import matplotlib.pyplot as plt\n",
    "%matplotlib inline\n",
    "\n",
    "fig, (ax1, ax2, ax3) = plt.subplots(ncols=3, figsize=(16, 5))\n",
    "\n",
    "# Plot distribution of number of reviews\n",
    "all_review_counts = [x[\"review_count\"] for x in full_dataset]\n",
    "ax1.hist(all_review_counts)\n",
    "ax1.set_title(\"Review Count Distribution\")\n",
    "ax1.set_xlabel(\"Number of Reviews\")\n",
    "ax1.set_ylabel(\"Number of Businesses\")\n",
    "\n",
    "# Plot rating distribution\n",
    "all_ratings = [x[\"rating\"] for x in full_dataset]\n",
    "rating_counter = Counter(all_ratings)\n",
    "rating_keys = sorted(rating_counter.keys())\n",
    "ax2.bar(rating_keys, [rating_counter[key] for key in rating_keys])\n",
    "ax2.set_title(\"Rating Distribution\")\n",
    "ax2.set_xlabel(\"Rating\")\n",
    "ax2.set_ylabel(\"Number of Businesses\")\n",
    "\n",
    "# Plot price distribution\n",
    "all_prices = [x[\"price\"].replace(\"$\", r\"\\$\") for x in full_dataset]\n",
    "price_counter = Counter(all_prices)\n",
    "price_keys = sorted(price_counter.keys())\n",
    "ax3.bar(price_keys, [price_counter[key] for key in price_keys])\n",
    "ax3.set_title(\"Price Distribution\")\n",
    "ax3.set_xlabel(\"Price Category\")\n",
    "ax3.set_ylabel(\"Number of Businesses\");"
   ]
  },
  {
   "cell_type": "markdown",
   "metadata": {},
   "source": [
    "Describe the distributions displayed above and interpret them in the context of your query. (Your answer may differ from the solution branch depending on your query.)"
   ]
  },
  {
   "cell_type": "code",
   "execution_count": 19,
   "metadata": {},
   "outputs": [
    {
     "data": {
      "text/plain": [
       "'\\nFrom the first graph, most businesses have high number of reviews\\n\\nOn the second graph most rating ranges between 4- 4.5 for most number of businesses\\n\\nOn the third graph shows that most business are in the second price category\\n'"
      ]
     },
     "execution_count": 19,
     "metadata": {},
     "output_type": "execute_result"
    }
   ],
   "source": [
    "# Replace None with appropriate text\n",
    "\"\"\"\n",
    "From the first graph, most businesses have high number of reviews\n",
    "\n",
    "On the second graph most rating ranges between 4- 4.5 for most number of businesses\n",
    "\n",
    "On the third graph shows that most business are in the second price category\n",
    "\"\"\""
   ]
  },
  {
   "cell_type": "markdown",
   "metadata": {},
   "source": [
    "In the cell below, we also plot the rating distributions by price. In this setup, a price of one dollar sign is \"lower price\" and everything else is \"higher price\"."
   ]
  },
  {
   "cell_type": "code",
   "execution_count": 15,
   "metadata": {},
   "outputs": [
    {
     "data": {
      "image/png": "[encoded data removed]",
      "text/plain": [
       "<Figure size 432x288 with 1 Axes>"
      ]
     },
     "metadata": {
      "needs_background": "light"
     },
     "output_type": "display_data"
    }
   ],
   "source": [
    "# Run this cell without changes\n",
    "\n",
    "higher_price = []\n",
    "lower_price = []\n",
    "for row in full_dataset:\n",
    "    if row[\"price\"] == \"$\":\n",
    "        lower_price.append(row[\"rating\"])\n",
    "    else:\n",
    "        higher_price.append(row[\"rating\"])\n",
    "        \n",
    "fig, ax = plt.subplots()\n",
    "\n",
    "ax.hist([higher_price, lower_price], label=[\"higher price\", \"lower price\"], density=True)\n",
    "\n",
    "ax.legend();"
   ]
  },
  {
   "cell_type": "markdown",
   "metadata": {},
   "source": [
    "Is a higher price associated with a higher rating? (No need for any additional math/statistics, just interpret what you see in the plot.)"
   ]
  },
  {
   "cell_type": "code",
   "execution_count": 21,
   "metadata": {},
   "outputs": [
    {
     "data": {
      "text/plain": [
       "'\\nNo, just because there is a correlation in the graph it does not indicate that higher pricing is associated with higher rartings, there is a lot offactors that can affect ratings outside of price\\n'"
      ]
     },
     "execution_count": 21,
     "metadata": {},
     "output_type": "execute_result"
    }
   ],
   "source": [
    "\n",
    "\"\"\"\n",
    "No, just because there is a correlation in the graph it does not indicate that higher pricing is associated with higher rartings, there is a lot offactors that can affect ratings outside of price\n",
    "\"\"\""
   ]
  },
  {
   "cell_type": "markdown",
   "metadata": {},
   "source": [
    "Finally, let's look at ratings vs. review counts:"
   ]
  },
  {
   "cell_type": "code",
   "execution_count": 16,
   "metadata": {},
   "outputs": [
    {
     "data": {
      "image/png": "[encoded data removed]",
      "text/plain": [
       "<Figure size 1152x360 with 1 Axes>"
      ]
     },
     "metadata": {
      "needs_background": "light"
     },
     "output_type": "display_data"
    }
   ],
   "source": [
    "# Run this cell without changes\n",
    "fig, ax = plt.subplots(figsize=(16,5))\n",
    "\n",
    "ax.scatter(all_review_counts, all_ratings, alpha=0.2)\n",
    "ax.set_xlabel(\"Number of Reviews\")\n",
    "ax.set_ylabel(\"Rating\")\n",
    "# \"zoom in\" to a subset of review counts\n",
    "ax.set_xlim(left=0, right=1000);"
   ]
  },
  {
   "cell_type": "markdown",
   "metadata": {},
   "source": [
    "Is a higher number of reviews associated with a higher rating?"
   ]
  },
  {
   "cell_type": "code",
   "execution_count": 22,
   "metadata": {},
   "outputs": [
    {
     "data": {
      "text/plain": [
       "'\\nno, number of reviews are highest at a rating of 4 the highest rating which is 4.5 has less number of reviews. \\n'"
      ]
     },
     "execution_count": 22,
     "metadata": {},
     "output_type": "execute_result"
    }
   ],
   "source": [
    "# Replace None with appropriate text\n",
    "\"\"\"\n",
    "no, number of reviews are highest at a rating of 4 the highest rating which is 4.5 has less number of reviews. \n",
    "\"\"\""
   ]
  },
  {
   "cell_type": "markdown",
   "metadata": {},
   "source": [
    "## 4. Create a Folium Map\n",
    "\n",
    "Make a map using Folium of the businesses you retrieved. Be sure to also add popups to the markers giving some basic information such as name, rating and price.\n",
    "\n",
    "You can center the map around the latitude and longitude of the first item in `full_dataset`."
   ]
  },
  {
   "cell_type": "code",
   "execution_count": 17,
   "metadata": {},
   "outputs": [
    {
     "data": {
      "text/html": [
       "<div style=\"width:100%;\"><div style=\"position:relative;width:100%;height:0;padding-bottom:60%;\"><span style=\"color:#565656\">Make this Notebook Trusted to load map: File -> Trust Notebook</span><iframe src=\"about:blank\" style=\"position:absolute;width:100%;height:100%;left:0;top:0;border:none !important;\" data-html=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 onload=\"this.contentDocument.open();this.contentDocument.write(atob(this.getAttribute('data-html')));this.contentDocument.close();\" allowfullscreen webkitallowfullscreen mozallowfullscreen></iframe></div></div>"
      ],
      "text/plain": [
       "<folium.folium.Map at 0x18475249fa0>"
      ]
     },
     "execution_count": 17,
     "metadata": {},
     "output_type": "execute_result"
    }
   ],
   "source": [
    "# Replace None with appropriate code\n",
    "\n",
    "import folium\n",
    "\n",
    "# Set up center latitude and longitude using the first item in full_dataset\n",
    "center_lat = full_dataset[0]['latitude']\n",
    "center_long = full_dataset[0]['longitude']\n",
    "\n",
    "# Initialize the map with the center lat and long\n",
    "yelp_map = folium.Map(location=[center_lat, center_long], zoom_start=12)\n",
    "\n",
    "# Adjust this limit to see more or fewer businesses\n",
    "limit = 100\n",
    "\n",
    "for business in full_dataset[:limit]:\n",
    "    # Extract information about the business\n",
    "    lat = business['latitude']\n",
    "    long = business['longitude']\n",
    "    name = business['name']\n",
    "    rating = business['rating']\n",
    "    price = business['price']\n",
    "    details = \"{}\\nPrice: {} Rating:{}\".format(name, price, rating)\n",
    "\n",
    "    # Create popup with relevant details\n",
    "    popup = folium.Popup(details, parse_html=True)\n",
    "\n",
    "    # Create a marker with relevant lat/long and popup\n",
    "    marker = folium.Marker(location=[lat, long], popup=popup)\n",
    "\n",
    "    marker.add_to(yelp_map)\n",
    "\n",
    "yelp_map"
   ]
  },
  {
   "cell_type": "markdown",
   "metadata": {},
   "source": [
    "## Summary\n",
    "\n",
    "Nice work! In this lab, you've made multiple API calls to Yelp in order to paginate through a results set, performing some basic exploratory analysis and then creating a nice interactive map to display the results using Folium! Well done!"
   ]
  }
 ],
 "metadata": {
  "kernelspec": {
   "display_name": "Python 3",
   "language": "python",
   "name": "python3"
  },
  "language_info": {
   "codemirror_mode": {
    "name": "ipython",
    "version": 3
   },
   "file_extension": ".py",
   "mimetype": "text/x-python",
   "name": "python",
   "nbconvert_exporter": "python",
   "pygments_lexer": "ipython3",
   "version": "3.8.5"
  },
  "toc": {
   "base_numbering": 1,
   "nav_menu": {},
   "number_sections": true,
   "sideBar": true,
   "skip_h1_title": false,
   "title_cell": "Table of Contents",
   "title_sidebar": "Contents",
   "toc_cell": false,
   "toc_position": {},
   "toc_section_display": true,
   "toc_window_display": false
  }
 },
 "nbformat": 4,
 "nbformat_minor": 2
}
